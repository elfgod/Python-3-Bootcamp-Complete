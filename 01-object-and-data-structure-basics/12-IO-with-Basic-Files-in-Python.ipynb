{
 "cells": [
  {
   "cell_type": "markdown",
   "id": "b02fb5a1-46f6-407a-a0ad-8cfa3f7a1618",
   "metadata": {},
   "source": [
    "## I/O with Basic Files in Python"
   ]
  },
  {
   "cell_type": "markdown",
   "id": "b643557d-c3be-427a-9f1c-49eb69542cd3",
   "metadata": {},
   "source": [
    "### This only works in Jupyter Notebooks"
   ]
  },
  {
   "cell_type": "code",
   "execution_count": 3,
   "id": "69a5a5c8-5655-4e4b-9496-5a0c8d188e9a",
   "metadata": {},
   "outputs": [
    {
     "name": "stdout",
     "output_type": "stream",
     "text": [
      "Writing myFile.txt\n"
     ]
    }
   ],
   "source": [
    "%%writefile myFile.txt\n",
    "Hello this is a text file\n",
    "this is the second line\n",
    "this is the third line"
   ]
  },
  {
   "cell_type": "code",
   "execution_count": 6,
   "id": "dacea2f9-3516-49ae-a3cd-651b984e5567",
   "metadata": {},
   "outputs": [],
   "source": [
    "myFile = open('myFile.txt')"
   ]
  },
  {
   "cell_type": "markdown",
   "id": "57a47adc-e4f7-460e-a30d-87825a760909",
   "metadata": {},
   "source": [
    "### No errors so the file is there"
   ]
  },
  {
   "cell_type": "code",
   "execution_count": 8,
   "id": "f737d959-9e3b-445d-bd14-2f50fdc8f27b",
   "metadata": {},
   "outputs": [],
   "source": [
    "# myFile = open('whoops_wrong.txt') # Error No such file or directory: 'whoops_wrong.txt'"
   ]
  },
  {
   "cell_type": "code",
   "execution_count": 9,
   "id": "c9d3963f-1597-4799-84b8-957fab40288d",
   "metadata": {},
   "outputs": [
    {
     "data": {
      "text/plain": [
       "'/home/elfgod/Documents/jose-portilla-python/01-Python-Object-and-Data-Structure-Basics'"
      ]
     },
     "execution_count": 9,
     "metadata": {},
     "output_type": "execute_result"
    }
   ],
   "source": [
    "pwd"
   ]
  },
  {
   "cell_type": "code",
   "execution_count": 10,
   "id": "1532ecd1-3958-4550-967a-2bc0d1ad8adb",
   "metadata": {},
   "outputs": [],
   "source": [
    "myFile = open('myFile.txt')"
   ]
  },
  {
   "cell_type": "code",
   "execution_count": 11,
   "id": "364b5b06-a650-48b9-b23c-4b329064d89f",
   "metadata": {},
   "outputs": [
    {
     "data": {
      "text/plain": [
       "'Hello this is a text file\\nthis is the second line\\nthis is the third line\\n'"
      ]
     },
     "execution_count": 11,
     "metadata": {},
     "output_type": "execute_result"
    }
   ],
   "source": [
    "myFile.read()"
   ]
  },
  {
   "cell_type": "code",
   "execution_count": 12,
   "id": "855800bb-c758-4506-8cf8-fc8765fe3daf",
   "metadata": {},
   "outputs": [
    {
     "data": {
      "text/plain": [
       "''"
      ]
     },
     "execution_count": 12,
     "metadata": {},
     "output_type": "execute_result"
    }
   ],
   "source": [
    "myFile.read()"
   ]
  },
  {
   "cell_type": "markdown",
   "id": "c176fab7-bd93-40f2-8f15-ea24b73ced5c",
   "metadata": {},
   "source": [
    "### ?????? looks erased, reset it"
   ]
  },
  {
   "cell_type": "code",
   "execution_count": 13,
   "id": "5deef931-b01e-4e51-8268-d0308675f30c",
   "metadata": {},
   "outputs": [
    {
     "data": {
      "text/plain": [
       "0"
      ]
     },
     "execution_count": 13,
     "metadata": {},
     "output_type": "execute_result"
    }
   ],
   "source": [
    "myFile.seek(0)"
   ]
  },
  {
   "cell_type": "code",
   "execution_count": 14,
   "id": "253156d8-e2d9-47a5-8915-1d81836652e0",
   "metadata": {},
   "outputs": [],
   "source": [
    "contents = myFile.read()"
   ]
  },
  {
   "cell_type": "code",
   "execution_count": 15,
   "id": "7597361e-482a-43fa-ad6c-6946b58549b0",
   "metadata": {},
   "outputs": [
    {
     "data": {
      "text/plain": [
       "'Hello this is a text file\\nthis is the second line\\nthis is the third line\\n'"
      ]
     },
     "execution_count": 15,
     "metadata": {},
     "output_type": "execute_result"
    }
   ],
   "source": [
    "contents"
   ]
  },
  {
   "cell_type": "code",
   "execution_count": 16,
   "id": "b3207dae-1557-4280-b15e-1c42ceecb53f",
   "metadata": {},
   "outputs": [
    {
     "data": {
      "text/plain": [
       "0"
      ]
     },
     "execution_count": 16,
     "metadata": {},
     "output_type": "execute_result"
    }
   ],
   "source": [
    "myFile.seek(0)"
   ]
  },
  {
   "cell_type": "code",
   "execution_count": 17,
   "id": "39c62e3a-b0c7-4021-9773-bfdcc0f9143a",
   "metadata": {},
   "outputs": [
    {
     "data": {
      "text/plain": [
       "['Hello this is a text file\\n',\n",
       " 'this is the second line\\n',\n",
       " 'this is the third line\\n']"
      ]
     },
     "execution_count": 17,
     "metadata": {},
     "output_type": "execute_result"
    }
   ],
   "source": [
    "myFile.readlines()"
   ]
  },
  {
   "cell_type": "code",
   "execution_count": 19,
   "id": "87860574-8db0-4c02-9c02-c0d6fa2bff34",
   "metadata": {},
   "outputs": [
    {
     "data": {
      "text/plain": [
       "[]"
      ]
     },
     "execution_count": 19,
     "metadata": {},
     "output_type": "execute_result"
    }
   ],
   "source": [
    "myFile.readlines()"
   ]
  },
  {
   "cell_type": "code",
   "execution_count": 20,
   "id": "860c78f8-0554-426c-96c5-42f2f2bd461a",
   "metadata": {},
   "outputs": [
    {
     "data": {
      "text/plain": [
       "0"
      ]
     },
     "execution_count": 20,
     "metadata": {},
     "output_type": "execute_result"
    }
   ],
   "source": [
    "myFile.seek(0)"
   ]
  },
  {
   "cell_type": "code",
   "execution_count": 22,
   "id": "a99cc2ff-8d9b-42f0-996a-19e700a81b11",
   "metadata": {},
   "outputs": [
    {
     "data": {
      "text/plain": [
       "'/home/elfgod/Documents/jose-portilla-python/01-Python-Object-and-Data-Structure-Basics'"
      ]
     },
     "execution_count": 22,
     "metadata": {},
     "output_type": "execute_result"
    }
   ],
   "source": [
    "pwd"
   ]
  },
  {
   "cell_type": "code",
   "execution_count": 24,
   "id": "754a0983-758e-4d6f-952a-9635b7fc2efb",
   "metadata": {},
   "outputs": [],
   "source": [
    "myFile.close() # To close the file , after using it, or before use"
   ]
  },
  {
   "cell_type": "markdown",
   "id": "c4f48645-7828-428b-9df9-93a2eca3f531",
   "metadata": {},
   "source": [
    "### With this you don't have to worry if you close a file after using it"
   ]
  },
  {
   "cell_type": "code",
   "execution_count": 25,
   "id": "70ab9197-e00d-4830-8748-645a56baa32e",
   "metadata": {},
   "outputs": [],
   "source": [
    "with open('myFile.txt') as my_new_file:\n",
    "    contents = my_new_file.read()"
   ]
  },
  {
   "cell_type": "code",
   "execution_count": 26,
   "id": "3b60945b-bfb5-430b-af61-b8ee69bbeb48",
   "metadata": {},
   "outputs": [
    {
     "data": {
      "text/plain": [
       "'Hello this is a text file\\nthis is the second line\\nthis is the third line\\n'"
      ]
     },
     "execution_count": 26,
     "metadata": {},
     "output_type": "execute_result"
    }
   ],
   "source": [
    "contents"
   ]
  },
  {
   "cell_type": "code",
   "execution_count": 29,
   "id": "7fa41854-362e-4fad-ae39-4d428fac4e92",
   "metadata": {},
   "outputs": [],
   "source": [
    "with open('myFile.txt', mode='r') as myFile:\n",
    "    contents = myFile.read()"
   ]
  },
  {
   "cell_type": "code",
   "execution_count": 30,
   "id": "630075be-3ba7-4459-89d5-865b6a34ec98",
   "metadata": {},
   "outputs": [
    {
     "data": {
      "text/plain": [
       "'Hello this is a text file\\nthis is the second line\\nthis is the third line\\n'"
      ]
     },
     "execution_count": 30,
     "metadata": {},
     "output_type": "execute_result"
    }
   ],
   "source": [
    "contents"
   ]
  },
  {
   "cell_type": "markdown",
   "id": "9e01dd22-87e9-4021-8881-596a5e457216",
   "metadata": {},
   "source": [
    "with open('myFile.txt', mode='w') as myFile:\n",
    "    contents = myFile.read()"
   ]
  },
  {
   "cell_type": "code",
   "execution_count": 32,
   "id": "2150af8c-34e9-4fa3-a6d8-ab65edbfa0b5",
   "metadata": {},
   "outputs": [],
   "source": [
    "# Error not readable, mode = 'w'"
   ]
  },
  {
   "cell_type": "markdown",
   "id": "0aa13d45-6d72-46d6-8753-5723d87a9762",
   "metadata": {},
   "source": [
    "### Reading, Writing, Appending Modes\n",
    "- **mode='r'** is read only\n",
    "- **mode='w'** is write only (will overwrite files or create a new!)\n",
    "- **mode='a'** is append only (will add on to files)\n",
    "- **mode='r+'** is reading and writing\n",
    "- **mode='w+'** is writing and reading (Overwrites existing files or creates a new file!)"
   ]
  },
  {
   "cell_type": "code",
   "execution_count": 45,
   "id": "04209137-542d-4ac8-9992-71b8675d317c",
   "metadata": {},
   "outputs": [
    {
     "name": "stdout",
     "output_type": "stream",
     "text": [
      "Overwriting my_new_file.txt\n"
     ]
    }
   ],
   "source": [
    "%%writefile my_new_file.txt\n",
    "ONE ON FIRST\n",
    "TWO ON SECOND\n",
    "THREE ON THIRD"
   ]
  },
  {
   "cell_type": "code",
   "execution_count": 46,
   "id": "f82850c7-7e52-43c9-885d-6e1b5c5510eb",
   "metadata": {},
   "outputs": [
    {
     "name": "stdout",
     "output_type": "stream",
     "text": [
      "ONE ON FIRST\n",
      "TWO ON SECOND\n",
      "THREE ON THIRD\n",
      "\n"
     ]
    }
   ],
   "source": [
    "with open('my_new_file.txt', mode='r') as f:\n",
    "    print(f.read())"
   ]
  },
  {
   "cell_type": "code",
   "execution_count": 47,
   "id": "a61be220-4c5c-4e0d-b557-b941c3028599",
   "metadata": {},
   "outputs": [],
   "source": [
    "with open('my_new_file.txt', mode='a') as f:\n",
    "    f.write('FOUR ON FOURTH')"
   ]
  },
  {
   "cell_type": "code",
   "execution_count": 48,
   "id": "b31cc331-1175-4613-bbac-64142ee037e6",
   "metadata": {},
   "outputs": [
    {
     "name": "stdout",
     "output_type": "stream",
     "text": [
      "ONE ON FIRST\n",
      "TWO ON SECOND\n",
      "THREE ON THIRD\n",
      "FOUR ON FOURTH\n"
     ]
    }
   ],
   "source": [
    "with open('my_new_file.txt', mode='r') as f:\n",
    "    print(f.read())"
   ]
  },
  {
   "cell_type": "code",
   "execution_count": 53,
   "id": "101bdee4-531e-4ee6-ac4d-12a6a7a7f353",
   "metadata": {},
   "outputs": [],
   "source": [
    "with open('dhfjdksghsdfsd.txt', mode='w') as f:\n",
    "    f.write('I CREATED THIS FILE!')"
   ]
  },
  {
   "cell_type": "code",
   "execution_count": 54,
   "id": "5e78bf3e-6e4c-4f40-a878-f4332c5ce1fe",
   "metadata": {},
   "outputs": [
    {
     "name": "stdout",
     "output_type": "stream",
     "text": [
      "I CREATED THIS FILE!\n"
     ]
    }
   ],
   "source": [
    "with open('dhfjdksghsdfsd.txt', mode='r') as f:\n",
    "    print(f.read())"
   ]
  },
  {
   "cell_type": "code",
   "execution_count": null,
   "id": "94aa6343-397c-4aac-89ab-dcffc29ec183",
   "metadata": {},
   "outputs": [],
   "source": []
  }
 ],
 "metadata": {
  "kernelspec": {
   "display_name": "Python 3 (ipykernel)",
   "language": "python",
   "name": "python3"
  },
  "language_info": {
   "codemirror_mode": {
    "name": "ipython",
    "version": 3
   },
   "file_extension": ".py",
   "mimetype": "text/x-python",
   "name": "python",
   "nbconvert_exporter": "python",
   "pygments_lexer": "ipython3",
   "version": "3.9.7"
  }
 },
 "nbformat": 4,
 "nbformat_minor": 5
}
