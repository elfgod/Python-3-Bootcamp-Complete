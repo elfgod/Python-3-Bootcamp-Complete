{
 "cells": [
  {
   "cell_type": "markdown",
   "id": "8e9f68ac-68e6-45a6-86e2-cc99505ffada",
   "metadata": {},
   "source": [
    "## if, elif, and else"
   ]
  },
  {
   "cell_type": "code",
   "execution_count": 4,
   "id": "0d4c4191-daa8-4e74-8a7c-a6590f6c7313",
   "metadata": {},
   "outputs": [
    {
     "name": "stdout",
     "output_type": "stream",
     "text": [
      "Its true!\n"
     ]
    }
   ],
   "source": [
    "if True:\n",
    "    print('Its true!')"
   ]
  },
  {
   "cell_type": "code",
   "execution_count": 6,
   "id": "d23bb399-bb9a-4de4-9897-645815c9b1f1",
   "metadata": {},
   "outputs": [
    {
     "name": "stdout",
     "output_type": "stream",
     "text": [
      "its true!\n"
     ]
    }
   ],
   "source": [
    "if 3 > 2:\n",
    "    print('its true!')"
   ]
  },
  {
   "cell_type": "code",
   "execution_count": 8,
   "id": "076c978d-60cf-4ff4-bc8c-56fff6b75e69",
   "metadata": {},
   "outputs": [
    {
     "name": "stdout",
     "output_type": "stream",
     "text": [
      "Feed me!\n"
     ]
    }
   ],
   "source": [
    "hungry = True\n",
    "if hungry:\n",
    "    print('Feed me!')"
   ]
  },
  {
   "cell_type": "code",
   "execution_count": 11,
   "id": "89e0d079-63a0-4f44-b318-a0afa27159aa",
   "metadata": {},
   "outputs": [
    {
     "name": "stdout",
     "output_type": "stream",
     "text": [
      "Im not hungry\n"
     ]
    }
   ],
   "source": [
    "hungry = False\n",
    "if hungry:\n",
    "    print('Feed me!')\n",
    "else:\n",
    "    print('Im not hungry')"
   ]
  },
  {
   "cell_type": "code",
   "execution_count": 22,
   "id": "d606e561-d094-490c-ae85-e3413efa7533",
   "metadata": {},
   "outputs": [
    {
     "name": "stdout",
     "output_type": "stream",
     "text": [
      "Money is cool\n"
     ]
    }
   ],
   "source": [
    "loc = 'bank'\n",
    "\n",
    "if loc == 'auto shop':\n",
    "    print('Cars are cool!')\n",
    "elif (loc) == 'bank':\n",
    "    print('Money is cool')\n",
    "elif (loc == 'store'):\n",
    "    print('Welcome to the store')\n",
    "else:\n",
    "    print('i do not know much')"
   ]
  },
  {
   "cell_type": "code",
   "execution_count": 26,
   "id": "6d2baefe-86cf-439c-acb6-9bdb7cd8090b",
   "metadata": {},
   "outputs": [
    {
     "name": "stdout",
     "output_type": "stream",
     "text": [
      "what is your name?\n"
     ]
    }
   ],
   "source": [
    "name = 'frankie1'\n",
    "\n",
    "if name == 'frankie':\n",
    "    print('hello frankie')\n",
    "elif name == 'sammy':\n",
    "    print('hello sammy')\n",
    "else:\n",
    "    print('what is your name?')"
   ]
  },
  {
   "cell_type": "code",
   "execution_count": null,
   "id": "9e34f4cd-a63f-4221-b81c-44f1ad12f504",
   "metadata": {},
   "outputs": [],
   "source": []
  }
 ],
 "metadata": {
  "kernelspec": {
   "display_name": "Python 3 (ipykernel)",
   "language": "python",
   "name": "python3"
  },
  "language_info": {
   "codemirror_mode": {
    "name": "ipython",
    "version": 3
   },
   "file_extension": ".py",
   "mimetype": "text/x-python",
   "name": "python",
   "nbconvert_exporter": "python",
   "pygments_lexer": "ipython3",
   "version": "3.9.7"
  }
 },
 "nbformat": 4,
 "nbformat_minor": 5
}
