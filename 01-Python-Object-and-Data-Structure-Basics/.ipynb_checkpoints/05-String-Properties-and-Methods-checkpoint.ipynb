{
 "cells": [
  {
   "cell_type": "markdown",
   "id": "63f8adc7-e061-4823-8d69-1aba6db6320b",
   "metadata": {},
   "source": [
    "# Immutability"
   ]
  },
  {
   "cell_type": "code",
   "execution_count": 27,
   "id": "ba7572a3-6dcd-40e6-9e7f-6aed0fcd3d32",
   "metadata": {},
   "outputs": [],
   "source": [
    "name = 'Alberto'"
   ]
  },
  {
   "cell_type": "code",
   "execution_count": 28,
   "id": "c36dc81d-ab77-47cd-98c3-f8cf7271c3b2",
   "metadata": {},
   "outputs": [],
   "source": [
    "# name[0] = 'P' # Error Strings are immutable"
   ]
  },
  {
   "cell_type": "code",
   "execution_count": 29,
   "id": "0d86bd3c-3fa1-403d-b6b4-47512755cd81",
   "metadata": {},
   "outputs": [],
   "source": [
    "last_letters = name[4:]"
   ]
  },
  {
   "cell_type": "code",
   "execution_count": 30,
   "id": "34bf1062-3f83-4f46-8a68-6742da107dc2",
   "metadata": {},
   "outputs": [
    {
     "data": {
      "text/plain": [
       "'rto'"
      ]
     },
     "execution_count": 30,
     "metadata": {},
     "output_type": "execute_result"
    }
   ],
   "source": [
    "last_letters"
   ]
  },
  {
   "cell_type": "markdown",
   "id": "af431e01-f228-47f2-be81-f776b8b608f3",
   "metadata": {},
   "source": [
    "# Strings Concatenation"
   ]
  },
  {
   "cell_type": "code",
   "execution_count": 31,
   "id": "f649c18f-c5bd-4f58-b9bd-9b4499a8be69",
   "metadata": {},
   "outputs": [
    {
     "data": {
      "text/plain": [
       "'Alberto'"
      ]
     },
     "execution_count": 31,
     "metadata": {},
     "output_type": "execute_result"
    }
   ],
   "source": [
    "'Albe' + last_letters"
   ]
  },
  {
   "cell_type": "code",
   "execution_count": 32,
   "id": "e8c4d314-f90f-4195-acef-dfb25595498e",
   "metadata": {},
   "outputs": [],
   "source": [
    "x = 'hello world '"
   ]
  },
  {
   "cell_type": "code",
   "execution_count": 33,
   "id": "1b33195a-6b5c-49f0-b7b6-d25f7bd4f72e",
   "metadata": {},
   "outputs": [
    {
     "data": {
      "text/plain": [
       "'hello world it is beautiful outside!'"
      ]
     },
     "execution_count": 33,
     "metadata": {},
     "output_type": "execute_result"
    }
   ],
   "source": [
    "x + 'it is beautiful outside!'"
   ]
  },
  {
   "cell_type": "code",
   "execution_count": 34,
   "id": "39bbe26c-41bd-4f54-aae2-9d6b6c503253",
   "metadata": {},
   "outputs": [],
   "source": [
    "x = x + 'it is beautiful outside!'"
   ]
  },
  {
   "cell_type": "code",
   "execution_count": 35,
   "id": "51ff0f99-11ac-4e77-9eef-ed0292b65910",
   "metadata": {},
   "outputs": [
    {
     "data": {
      "text/plain": [
       "'hello world it is beautiful outside!'"
      ]
     },
     "execution_count": 35,
     "metadata": {},
     "output_type": "execute_result"
    }
   ],
   "source": [
    "x"
   ]
  },
  {
   "cell_type": "code",
   "execution_count": 36,
   "id": "f931e3ac-2d92-4c89-be27-95249a12eee8",
   "metadata": {},
   "outputs": [],
   "source": [
    "letter = 'z'"
   ]
  },
  {
   "cell_type": "code",
   "execution_count": 37,
   "id": "a1844abb-e274-47a1-b581-5fbcebc86859",
   "metadata": {},
   "outputs": [
    {
     "data": {
      "text/plain": [
       "'zzzzzzzzzz'"
      ]
     },
     "execution_count": 37,
     "metadata": {},
     "output_type": "execute_result"
    }
   ],
   "source": [
    "letter * 10"
   ]
  },
  {
   "cell_type": "code",
   "execution_count": 40,
   "id": "3aca323a-edba-4d59-929e-75958a5449e5",
   "metadata": {},
   "outputs": [],
   "source": [
    "# '2' + 10 # Error"
   ]
  },
  {
   "cell_type": "code",
   "execution_count": 41,
   "id": "e37bc932-6aa1-4af9-906f-4c7164d53f2a",
   "metadata": {},
   "outputs": [
    {
     "data": {
      "text/plain": [
       "'23'"
      ]
     },
     "execution_count": 41,
     "metadata": {},
     "output_type": "execute_result"
    }
   ],
   "source": [
    "'2' + '3'"
   ]
  },
  {
   "cell_type": "code",
   "execution_count": 47,
   "id": "9c12f614-dde6-4036-b049-6e24ec23b3ed",
   "metadata": {},
   "outputs": [],
   "source": [
    "x = 'Hello World'"
   ]
  },
  {
   "cell_type": "code",
   "execution_count": 48,
   "id": "fd4987d7-3b74-4f5d-9ecb-8603a2ba6465",
   "metadata": {},
   "outputs": [
    {
     "data": {
      "text/plain": [
       "'HELLO WORLD'"
      ]
     },
     "execution_count": 48,
     "metadata": {},
     "output_type": "execute_result"
    }
   ],
   "source": [
    "x.upper() # this doesn't affect the original string"
   ]
  },
  {
   "cell_type": "code",
   "execution_count": 49,
   "id": "06e0a9ab-9ffd-4134-8602-473bc723c853",
   "metadata": {},
   "outputs": [
    {
     "data": {
      "text/plain": [
       "'Hello World'"
      ]
     },
     "execution_count": 49,
     "metadata": {},
     "output_type": "execute_result"
    }
   ],
   "source": [
    "x "
   ]
  },
  {
   "cell_type": "code",
   "execution_count": 50,
   "id": "55459021-d052-4317-b549-dd65d3b9e678",
   "metadata": {},
   "outputs": [
    {
     "data": {
      "text/plain": [
       "'hello world'"
      ]
     },
     "execution_count": 50,
     "metadata": {},
     "output_type": "execute_result"
    }
   ],
   "source": [
    "x.lower()"
   ]
  },
  {
   "cell_type": "code",
   "execution_count": 52,
   "id": "d1c431c8-1c6c-46eb-88d6-abaf8e492036",
   "metadata": {},
   "outputs": [
    {
     "data": {
      "text/plain": [
       "['Hello', 'World']"
      ]
     },
     "execution_count": 52,
     "metadata": {},
     "output_type": "execute_result"
    }
   ],
   "source": [
    "x.split()"
   ]
  },
  {
   "cell_type": "code",
   "execution_count": 53,
   "id": "9a0b73ac-d2fc-46d7-acae-28052302c07c",
   "metadata": {},
   "outputs": [],
   "source": [
    "x = 'Hi this is a string'"
   ]
  },
  {
   "cell_type": "code",
   "execution_count": 54,
   "id": "b4e54013-bd5a-4b87-9b5a-b92551f9d37e",
   "metadata": {},
   "outputs": [
    {
     "data": {
      "text/plain": [
       "['Hi', 'this', 'is', 'a', 'string']"
      ]
     },
     "execution_count": 54,
     "metadata": {},
     "output_type": "execute_result"
    }
   ],
   "source": [
    "x.split()"
   ]
  },
  {
   "cell_type": "code",
   "execution_count": 55,
   "id": "971fbf6d-1d35-49a6-814c-5bef50c375a7",
   "metadata": {},
   "outputs": [
    {
     "data": {
      "text/plain": [
       "['H', ' th', 's ', 's a str', 'ng']"
      ]
     },
     "execution_count": 55,
     "metadata": {},
     "output_type": "execute_result"
    }
   ],
   "source": [
    "x.split('i')"
   ]
  },
  {
   "cell_type": "code",
   "execution_count": null,
   "id": "7d20526c-08ea-4be2-9e41-ed6e355eca78",
   "metadata": {},
   "outputs": [],
   "source": []
  }
 ],
 "metadata": {
  "kernelspec": {
   "display_name": "Python 3 (ipykernel)",
   "language": "python",
   "name": "python3"
  },
  "language_info": {
   "codemirror_mode": {
    "name": "ipython",
    "version": 3
   },
   "file_extension": ".py",
   "mimetype": "text/x-python",
   "name": "python",
   "nbconvert_exporter": "python",
   "pygments_lexer": "ipython3",
   "version": "3.9.7"
  }
 },
 "nbformat": 4,
 "nbformat_minor": 5
}
