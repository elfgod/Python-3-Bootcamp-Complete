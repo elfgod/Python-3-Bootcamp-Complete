{
 "cells": [
  {
   "cell_type": "code",
   "execution_count": 3,
   "id": "d8cbfb0b-1a42-4d10-8e60-51ac35b003d2",
   "metadata": {},
   "outputs": [],
   "source": [
    "my_dict = {'key1': 'value1', 'key2': 'value2'}"
   ]
  },
  {
   "cell_type": "code",
   "execution_count": 4,
   "id": "11b6a128-baa8-4369-8460-4db7b76dbecc",
   "metadata": {},
   "outputs": [
    {
     "data": {
      "text/plain": [
       "{'key1': 'value1', 'key2': 'value2'}"
      ]
     },
     "execution_count": 4,
     "metadata": {},
     "output_type": "execute_result"
    }
   ],
   "source": [
    "my_dict"
   ]
  },
  {
   "cell_type": "code",
   "execution_count": 5,
   "id": "af615217-42a9-4953-bd7b-d8fe8c425e51",
   "metadata": {},
   "outputs": [
    {
     "data": {
      "text/plain": [
       "'value1'"
      ]
     },
     "execution_count": 5,
     "metadata": {},
     "output_type": "execute_result"
    }
   ],
   "source": [
    "my_dict['key1']"
   ]
  },
  {
   "cell_type": "code",
   "execution_count": 7,
   "id": "b2c8b31a-3f20-4067-805a-096a24f27a4b",
   "metadata": {},
   "outputs": [],
   "source": [
    "prices_lookup = {'apple': 2.99, 'orange': 1.99, 'milk': 5.80}"
   ]
  },
  {
   "cell_type": "code",
   "execution_count": 8,
   "id": "e7bd22cb-c6bf-49b9-8a45-ebfa26a235be",
   "metadata": {},
   "outputs": [
    {
     "data": {
      "text/plain": [
       "2.99"
      ]
     },
     "execution_count": 8,
     "metadata": {},
     "output_type": "execute_result"
    }
   ],
   "source": [
    "prices_lookup['apple']"
   ]
  },
  {
   "cell_type": "code",
   "execution_count": 9,
   "id": "262b7991-6711-407f-a185-fc7c448890e4",
   "metadata": {},
   "outputs": [],
   "source": [
    "d = {'k1': 123, 'k2': [0,1,2], 'k3': {'insideKey': 100}}"
   ]
  },
  {
   "cell_type": "code",
   "execution_count": 10,
   "id": "14d31fe2-30a7-4bb8-a4b4-e8891c6e2c1d",
   "metadata": {},
   "outputs": [
    {
     "data": {
      "text/plain": [
       "123"
      ]
     },
     "execution_count": 10,
     "metadata": {},
     "output_type": "execute_result"
    }
   ],
   "source": [
    "d['k1']"
   ]
  },
  {
   "cell_type": "code",
   "execution_count": 11,
   "id": "2464f887-4b05-48d8-95f3-f3247a4fc041",
   "metadata": {},
   "outputs": [
    {
     "data": {
      "text/plain": [
       "[0, 1, 2]"
      ]
     },
     "execution_count": 11,
     "metadata": {},
     "output_type": "execute_result"
    }
   ],
   "source": [
    "d['k2']"
   ]
  },
  {
   "cell_type": "code",
   "execution_count": 12,
   "id": "4cd95b6e-b70b-43d3-9d95-2fa3cf91bfe7",
   "metadata": {},
   "outputs": [
    {
     "data": {
      "text/plain": [
       "{'insideKey': 100}"
      ]
     },
     "execution_count": 12,
     "metadata": {},
     "output_type": "execute_result"
    }
   ],
   "source": [
    "d['k3']"
   ]
  },
  {
   "cell_type": "code",
   "execution_count": 13,
   "id": "a6555dc0-0d68-48d3-8011-dc39f2967479",
   "metadata": {},
   "outputs": [
    {
     "data": {
      "text/plain": [
       "100"
      ]
     },
     "execution_count": 13,
     "metadata": {},
     "output_type": "execute_result"
    }
   ],
   "source": [
    "d['k3']['insideKey']"
   ]
  },
  {
   "cell_type": "code",
   "execution_count": 15,
   "id": "55bfb1ac-7598-4547-b9d9-6500feba9eaf",
   "metadata": {},
   "outputs": [
    {
     "data": {
      "text/plain": [
       "2"
      ]
     },
     "execution_count": 15,
     "metadata": {},
     "output_type": "execute_result"
    }
   ],
   "source": [
    "d['k2'][2]"
   ]
  },
  {
   "cell_type": "code",
   "execution_count": 24,
   "id": "a54bfdec-2d80-4eaf-a0fe-d4a2114c06d8",
   "metadata": {},
   "outputs": [],
   "source": [
    "d = {'key1': ['a','b','c']}"
   ]
  },
  {
   "cell_type": "code",
   "execution_count": 25,
   "id": "00034c3f-3192-4138-bdfe-ecff8a7c75e4",
   "metadata": {},
   "outputs": [],
   "source": [
    "myList = d['key1'][2]"
   ]
  },
  {
   "cell_type": "code",
   "execution_count": 26,
   "id": "6f6cd467-e7d0-4940-a240-7d4081681785",
   "metadata": {},
   "outputs": [
    {
     "data": {
      "text/plain": [
       "'c'"
      ]
     },
     "execution_count": 26,
     "metadata": {},
     "output_type": "execute_result"
    }
   ],
   "source": [
    "myList"
   ]
  },
  {
   "cell_type": "code",
   "execution_count": 27,
   "id": "c515f9a4-0737-47c7-8bd3-74ffd20a809b",
   "metadata": {},
   "outputs": [],
   "source": [
    "myList = d['key1']"
   ]
  },
  {
   "cell_type": "code",
   "execution_count": 28,
   "id": "2611c9c6-c38c-4577-929f-f069d8684723",
   "metadata": {},
   "outputs": [
    {
     "data": {
      "text/plain": [
       "['a', 'b', 'c']"
      ]
     },
     "execution_count": 28,
     "metadata": {},
     "output_type": "execute_result"
    }
   ],
   "source": [
    "myList"
   ]
  },
  {
   "cell_type": "code",
   "execution_count": 29,
   "id": "9affad39-14ca-4351-9660-4195b174acae",
   "metadata": {},
   "outputs": [],
   "source": [
    "letter = myList[2]"
   ]
  },
  {
   "cell_type": "code",
   "execution_count": 32,
   "id": "7d70a28c-26f7-4906-a11a-b51ee85a37c6",
   "metadata": {},
   "outputs": [
    {
     "data": {
      "text/plain": [
       "'c'"
      ]
     },
     "execution_count": 32,
     "metadata": {},
     "output_type": "execute_result"
    }
   ],
   "source": [
    "letter"
   ]
  },
  {
   "cell_type": "code",
   "execution_count": 33,
   "id": "b65cd7bd-8a05-4e8c-8ae5-c9842175de27",
   "metadata": {},
   "outputs": [
    {
     "data": {
      "text/plain": [
       "'C'"
      ]
     },
     "execution_count": 33,
     "metadata": {},
     "output_type": "execute_result"
    }
   ],
   "source": [
    "letter.upper()"
   ]
  },
  {
   "cell_type": "code",
   "execution_count": 34,
   "id": "b4e532fe-19be-4d1a-babd-34d680be9744",
   "metadata": {},
   "outputs": [
    {
     "data": {
      "text/plain": [
       "'C'"
      ]
     },
     "execution_count": 34,
     "metadata": {},
     "output_type": "execute_result"
    }
   ],
   "source": [
    "d['key1'][2].upper() # All in one line"
   ]
  },
  {
   "cell_type": "code",
   "execution_count": 35,
   "id": "3e523b7b-91ca-4489-947a-d78d2e113a16",
   "metadata": {},
   "outputs": [],
   "source": [
    "d = {'k1': 100, 'key2': 200}"
   ]
  },
  {
   "cell_type": "code",
   "execution_count": 36,
   "id": "345be7fc-2364-48cf-893c-63c866542329",
   "metadata": {},
   "outputs": [],
   "source": [
    "d['k3'] = 300"
   ]
  },
  {
   "cell_type": "code",
   "execution_count": 37,
   "id": "f8633279-e9d1-42cc-be75-a2502f353b48",
   "metadata": {},
   "outputs": [
    {
     "data": {
      "text/plain": [
       "{'k1': 100, 'key2': 200, 'k3': 300}"
      ]
     },
     "execution_count": 37,
     "metadata": {},
     "output_type": "execute_result"
    }
   ],
   "source": [
    "d"
   ]
  },
  {
   "cell_type": "code",
   "execution_count": 38,
   "id": "0bacc216-963c-49d0-94cc-d8dfb4531084",
   "metadata": {},
   "outputs": [],
   "source": [
    "d['k1'] = 'NEW VALUE'"
   ]
  },
  {
   "cell_type": "code",
   "execution_count": 39,
   "id": "20f6bd54-934d-4974-83be-7520a18e6e0e",
   "metadata": {},
   "outputs": [
    {
     "data": {
      "text/plain": [
       "{'k1': 'NEW VALUE', 'key2': 200, 'k3': 300}"
      ]
     },
     "execution_count": 39,
     "metadata": {},
     "output_type": "execute_result"
    }
   ],
   "source": [
    "d"
   ]
  },
  {
   "cell_type": "code",
   "execution_count": 40,
   "id": "3ff89210-363f-487c-a65b-93bf0fb72c99",
   "metadata": {},
   "outputs": [],
   "source": [
    "d = {'k1': 100, 'key2': 200, 'k3': 300}"
   ]
  },
  {
   "cell_type": "code",
   "execution_count": 42,
   "id": "0dc7dcd2-dc2c-42cb-9ca3-ef48c8187561",
   "metadata": {},
   "outputs": [
    {
     "data": {
      "text/plain": [
       "dict_keys(['k1', 'key2', 'k3'])"
      ]
     },
     "execution_count": 42,
     "metadata": {},
     "output_type": "execute_result"
    }
   ],
   "source": [
    "d.keys()"
   ]
  },
  {
   "cell_type": "code",
   "execution_count": 43,
   "id": "d816376a-336a-41dc-ad31-68f68fdcfedc",
   "metadata": {},
   "outputs": [
    {
     "data": {
      "text/plain": [
       "dict_values([100, 200, 300])"
      ]
     },
     "execution_count": 43,
     "metadata": {},
     "output_type": "execute_result"
    }
   ],
   "source": [
    "d.values()"
   ]
  },
  {
   "cell_type": "code",
   "execution_count": 44,
   "id": "7cdc9798-0a45-4638-a0c0-1fb7d79ccb42",
   "metadata": {},
   "outputs": [
    {
     "data": {
      "text/plain": [
       "dict_items([('k1', 100), ('key2', 200), ('k3', 300)])"
      ]
     },
     "execution_count": 44,
     "metadata": {},
     "output_type": "execute_result"
    }
   ],
   "source": [
    "d.items()"
   ]
  },
  {
   "cell_type": "markdown",
   "id": "31cf7212-a8d8-497f-bd50-626fc60feaec",
   "metadata": {},
   "source": [
    "Dictionaries FAQ\n",
    "\n",
    "Do dictionaries keep an order? How do I print the values of the dictionary in order?\n",
    "\n",
    "Dictionaries are mappings and do not retain order! "
   ]
  },
  {
   "cell_type": "code",
   "execution_count": null,
   "id": "a3419cc1-4c81-4f64-a1f9-b52055268b74",
   "metadata": {},
   "outputs": [],
   "source": []
  }
 ],
 "metadata": {
  "kernelspec": {
   "display_name": "Python 3 (ipykernel)",
   "language": "python",
   "name": "python3"
  },
  "language_info": {
   "codemirror_mode": {
    "name": "ipython",
    "version": 3
   },
   "file_extension": ".py",
   "mimetype": "text/x-python",
   "name": "python",
   "nbconvert_exporter": "python",
   "pygments_lexer": "ipython3",
   "version": "3.9.7"
  }
 },
 "nbformat": 4,
 "nbformat_minor": 5
}
